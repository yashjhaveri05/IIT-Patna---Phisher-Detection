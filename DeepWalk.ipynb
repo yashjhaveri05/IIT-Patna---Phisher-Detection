{
  "nbformat": 4,
  "nbformat_minor": 0,
  "metadata": {
    "colab": {
      "name": "DeepWalk.ipynb",
      "provenance": [],
      "collapsed_sections": []
    },
    "kernelspec": {
      "name": "python3",
      "display_name": "Python 3"
    },
    "language_info": {
      "name": "python"
    },
    "accelerator": "GPU"
  },
  "cells": [
    {
      "cell_type": "code",
      "source": [
        "from google.colab import drive\n",
        "drive.mount('/content/drive')"
      ],
      "metadata": {
        "colab": {
          "base_uri": "https://localhost:8080/"
        },
        "id": "DV9hZlZEH0Xx",
        "outputId": "fd2ea02c-10ff-4d5b-817e-96bd6050a8dd"
      },
      "execution_count": null,
      "outputs": [
        {
          "output_type": "stream",
          "name": "stdout",
          "text": [
            "Drive already mounted at /content/drive; to attempt to forcibly remount, call drive.mount(\"/content/drive\", force_remount=True).\n"
          ]
        }
      ]
    },
    {
      "cell_type": "markdown",
      "source": [
        "Importing Libraries"
      ],
      "metadata": {
        "id": "JLfhwkaBGWcd"
      }
    },
    {
      "cell_type": "code",
      "source": [
        "import pandas as pd\n",
        "import numpy as np\n",
        "from matplotlib import pyplot as plt\n",
        "import random\n",
        "import networkx as nx\n",
        "from tqdm import tqdm\n",
        "from sklearn.ensemble import RandomForestClassifier\n",
        "from sklearn.metrics import classification_report\n",
        "from sklearn.linear_model import LogisticRegression\n",
        "from sklearn.svm import OneClassSVM, SVC\n",
        "from sklearn.preprocessing import MinMaxScaler, StandardScaler\n",
        "from sklearn.model_selection import StratifiedShuffleSplit\n",
        "from sklearn.metrics import f1_score, precision_recall_fscore_support, accuracy_score, roc_auc_score\n",
        "from sklearn.manifold import TSNE\n",
        "import time\n",
        "import seaborn as sns\n",
        "from sklearn.decomposition import PCA\n",
        "from gensim.models import Word2Vec\n",
        "import warnings\n",
        "warnings.filterwarnings('ignore')\n",
        "\n",
        "rnd_seed = 42\n",
        "random.seed(rnd_seed)\n",
        "test_size = 0.2"
      ],
      "metadata": {
        "id": "KUJBiK6KF61X"
      },
      "execution_count": null,
      "outputs": []
    },
    {
      "cell_type": "markdown",
      "source": [
        "Defining Paths"
      ],
      "metadata": {
        "id": "CCx7oX6vHncN"
      }
    },
    {
      "cell_type": "code",
      "source": [
        "main_data = '/content/drive/My Drive/Baseline/Dataset/data.csv'\n",
        "edge_list_file_name = '/content/drive/My Drive/Baseline/Dataset/edgelist.edgelist'\n",
        "node_list_file_name = \"/content/drive/My Drive/Baseline/Dataset/nodeData.csv\"\n",
        "edge_filename = \"/content/drive/My Drive/Baseline/Dataset/edgeData.csv\"\n",
        "stats_file = '/content/drive/My Drive/Baseline/deepwalk/stats.csv'\n",
        "embeddings_filename = '/content/drive/My Drive/Baseline/deepwalk/embed.emb'"
      ],
      "metadata": {
        "id": "nTD3012nGfUz"
      },
      "execution_count": null,
      "outputs": []
    },
    {
      "cell_type": "markdown",
      "source": [
        "Creating Graph"
      ],
      "metadata": {
        "id": "Vwlg0TJgOuzi"
      }
    },
    {
      "cell_type": "code",
      "source": [
        "nx_g = nx.from_pandas_edgelist(pd.read_csv(edge_list_file_name), source='source', target='target',\n",
        "                                   create_using=nx.DiGraph())\n",
        "print(\"Graph info:\", nx.info(nx_g))"
      ],
      "metadata": {
        "colab": {
          "base_uri": "https://localhost:8080/"
        },
        "id": "oIEOvbdTHoxI",
        "outputId": "cf7180cd-8063-4ca4-eb5c-f10a1334b905"
      },
      "execution_count": null,
      "outputs": [
        {
          "output_type": "stream",
          "name": "stdout",
          "text": [
            "Graph info: DiGraph with 35417 nodes and 45377 edges\n"
          ]
        }
      ]
    },
    {
      "cell_type": "markdown",
      "source": [
        "DeepWalk and Creating Embeddings"
      ],
      "metadata": {
        "id": "zRG8K-stPvBy"
      }
    },
    {
      "cell_type": "code",
      "source": [
        "window_size = 10\n",
        "walk_per_node = 5\n",
        "walk_length = 10\n",
        "\n",
        "def get_randomwalk(node, path_length):\n",
        "    random_walk = [node]\n",
        "    for i in range(path_length-1):\n",
        "        temp = list(nx_g.neighbors(node))\n",
        "        temp = list(set(temp) - set(random_walk))    \n",
        "        if len(temp) == 0:\n",
        "            break\n",
        "\n",
        "        random_node = random.choice(temp)\n",
        "        random_walk.append(random_node)\n",
        "        node = random_node\n",
        "    return random_walk\n",
        "\n",
        "all_nodes = list(nx_g.nodes())\n",
        "random_walks = []\n",
        "for n in tqdm(all_nodes):\n",
        "    for i in range(walk_per_node):\n",
        "        random_walks.append(get_randomwalk(n,walk_length))\n",
        "\n",
        "model = Word2Vec(window = 4, sg = 1, hs = 0, negative = 10, alpha=0.03, min_alpha=0.0007, seed = 14)\n",
        "model.build_vocab(random_walks, progress_per=2)\n",
        "model.train(random_walks, total_examples = model.corpus_count, epochs=20, report_delay=1)\n",
        "\n",
        "model.wv"
      ],
      "metadata": {
        "colab": {
          "base_uri": "https://localhost:8080/"
        },
        "id": "LJJZWmIYHu60",
        "outputId": "9f220d2d-2b22-4c63-aa04-10256f17c7c5"
      },
      "execution_count": null,
      "outputs": [
        {
          "output_type": "stream",
          "name": "stderr",
          "text": [
            "100%|██████████| 35417/35417 [00:01<00:00, 18109.05it/s]\n"
          ]
        },
        {
          "output_type": "execute_result",
          "data": {
            "text/plain": [
              "<gensim.models.keyedvectors.Word2VecKeyedVectors at 0x7f5b2eedcd50>"
            ]
          },
          "metadata": {},
          "execution_count": 5
        }
      ]
    },
    {
      "cell_type": "markdown",
      "source": [
        "Displaying Classification Report Function"
      ],
      "metadata": {
        "id": "lbUfvV10P-TL"
      }
    },
    {
      "cell_type": "code",
      "source": [
        "def perf_report(identifier, y_true, y_pred, binary, print_enable=False):\n",
        "    if binary:\n",
        "        print(\">>> Binary Classification.\")\n",
        "        prec, rec, f1, num = precision_recall_fscore_support(y_true, y_pred, average='binary')\n",
        "        micro_f1 = f1_score(y_true, y_pred, average='binary')\n",
        "    else:\n",
        "        print(\">>> Multi-class Classification.\")\n",
        "        prec, rec, f1, num = precision_recall_fscore_support(y_true, y_pred, average='macro')\n",
        "        micro_f1 = f1_score(y_true, y_pred, average='macro')\n",
        "    acc = accuracy_score(y_true, y_pred)\n",
        "    if print_enable:\n",
        "        print(\"\\t*** {} performance reports: ***\".format(str(identifier)))\n",
        "        print(\"\\t\\tPrecision: %.3f \\n\\t\\tRecall: %.3f \\n\\t\\tF1-Score: %.3f\" % (prec, rec, f1))\n",
        "        print('\\t\\tMicro-Average F1-Score: %.3f' % micro_f1)\n",
        "        print('\\t\\tAccuracy: %.3f' % acc)\n",
        "        print(classification_report(y_true, y_pred))\n",
        "    return prec, rec, f1, acc"
      ],
      "metadata": {
        "id": "QdQXHWViNOdF"
      },
      "execution_count": null,
      "outputs": []
    },
    {
      "cell_type": "markdown",
      "source": [
        "Spliting Data Into Train and Test"
      ],
      "metadata": {
        "id": "qnoYn81BQDXL"
      }
    },
    {
      "cell_type": "code",
      "source": [
        "def train_test_split(X, y, rnd_seed):\n",
        "\n",
        "    # generate indices for the train and test set\n",
        "    indices = [i for i in range(len(y))]\n",
        "    sss = StratifiedShuffleSplit(n_splits=1, test_size=test_size, random_state=rnd_seed)\n",
        "    sss.get_n_splits(indices, y)\n",
        "    train_indices, test_indices = next(sss.split(indices, y))\n",
        "\n",
        "    # train/test split\n",
        "    X_train = [X[i] for i in train_indices]\n",
        "    X_test = [X[i] for i in test_indices]\n",
        "\n",
        "    y_train = [y[i] for i in train_indices]\n",
        "    y_test = [y[i] for i in test_indices]\n",
        "\n",
        "    return X_train, X_test, y_train, y_test"
      ],
      "metadata": {
        "id": "kjJ4bNWeNPAz"
      },
      "execution_count": null,
      "outputs": []
    },
    {
      "cell_type": "markdown",
      "source": [
        "Function To Fit Models and Get Metrics"
      ],
      "metadata": {
        "id": "imYaBJwUQ6Gn"
      }
    },
    {
      "cell_type": "code",
      "source": [
        "def simple_classification(clf, clf_id, emb_flag, X_train, X_test, y_train, y_test,\n",
        "                          binary, exp_id, print_enable=False):\n",
        "\n",
        "    # train the model\n",
        "    clf.fit(X_train, y_train)\n",
        "\n",
        "    # predict the training set labels\n",
        "    y_train_pred = clf.predict(X_train)\n",
        "\n",
        "    # predict the test set labels\n",
        "    y_test_pred = clf.predict(X_test)\n",
        "\n",
        "    # evaluate the performance for the training set\n",
        "    tr_prec, tr_rec, tr_f1, tr_acc = perf_report(str(clf_id) + ' - Training Set', y_train, y_train_pred, binary, print_enable)\n",
        "    ts_prec, ts_rec, ts_f1, ts_acc = perf_report(str(clf_id) + ' - Test Set', y_test, y_test_pred, binary, print_enable)\n",
        "\n",
        "    # auc-roc\n",
        "    if binary:\n",
        "        y_test_proba = clf.predict_proba(X_test)[::,1]\n",
        "        y_train_proba = clf.predict_proba(X_train)[::,1]\n",
        "        tr_roc_auc = roc_auc_score(y_train, y_train_proba)\n",
        "        ts_roc_auc = roc_auc_score(y_test, y_test_proba)\n",
        "\n",
        "    split_exp_id = exp_id.split(\";\")\n",
        "    if len(split_exp_id) == 2:\n",
        "        index = split_exp_id[0]\n",
        "        id = split_exp_id[1]\n",
        "    elif len(split_exp_id) == 1:\n",
        "        index = 0\n",
        "        id = split_exp_id[0]\n",
        "    else:\n",
        "        raise ValueError(\"Incorrect Experiment ID!\")\n",
        "\n",
        "    perf_dict = {\n",
        "        'index': index,\n",
        "        'exp_id': id,\n",
        "        'emb_method': str(emb_flag),\n",
        "        'classifier': str(clf_id),\n",
        "\n",
        "        'train_prec': tr_prec,\n",
        "        'train_rec': tr_rec,\n",
        "        'train_f1': tr_f1,\n",
        "        'train_acc': tr_acc,\n",
        "        'train_auc': tr_roc_auc,\n",
        "\n",
        "        'test_prec': ts_prec,\n",
        "        'test_rec': ts_rec,\n",
        "        'test_f1': ts_f1,\n",
        "        'test_acc': ts_acc,\n",
        "        'test_auc': ts_roc_auc\n",
        "    }\n",
        "\n",
        "    return perf_dict, clf"
      ],
      "metadata": {
        "id": "vRFUudUYQzmG"
      },
      "execution_count": null,
      "outputs": []
    },
    {
      "cell_type": "markdown",
      "source": [
        "Defining Classification Function"
      ],
      "metadata": {
        "id": "tW3wKfHUQMj7"
      }
    },
    {
      "cell_type": "code",
      "source": [
        "def rf_lr_classification(X_train, X_test, y_train, y_test, stats_file, flag,\n",
        "                         binary, exp_id, print_report=False):\n",
        "    rf_clf = RandomForestClassifier(n_estimators=50, max_features=10, max_depth=5, random_state=rnd_seed)\n",
        "    lr_clf = LogisticRegression(penalty='l1', solver='liblinear', max_iter=1e5, random_state=rnd_seed)\n",
        "\n",
        "    rf_perf, rf_clf = simple_classification(rf_clf, 'Random Forest', flag, X_train, X_test, y_train, y_test,\n",
        "                                            binary, exp_id, print_report)\n",
        "    binary = True\n",
        "    lr_perf, lr_clf = simple_classification(lr_clf, 'Logistic Regression', flag, X_train, X_test, y_train, y_test,\n",
        "                                            binary, exp_id, print_report)\n",
        "\n",
        "    return rf_perf, rf_clf, lr_perf, lr_clf"
      ],
      "metadata": {
        "id": "YEJyJz25NQ7c"
      },
      "execution_count": null,
      "outputs": []
    },
    {
      "cell_type": "markdown",
      "source": [
        "Main"
      ],
      "metadata": {
        "id": "uMhMXuuIQUsS"
      }
    },
    {
      "cell_type": "code",
      "source": [
        "nodes_df = pd.read_csv(node_list_file_name)\n",
        "anchor_nodes_df = nodes_df\n",
        "node_list = [str(node_id) for node_id in anchor_nodes_df['node'].tolist()]\n",
        "embeddings = [model.wv.get_vector(node) for node in node_list]\n",
        "model.wv.save_word2vec_format(embeddings_filename)\n",
        "labels = anchor_nodes_df['isp'].tolist()\n",
        "\n",
        "rnd_seed = 42\n",
        "binary = True\n",
        "X_train, X_test, y_train, y_test = train_test_split(embeddings, labels, rnd_seed)\n",
        "rf_lr_classification(X_train, X_test, y_train, y_test, stats_file, 'deepwalk', binary, '1;elliptic' , print_report=True)"
      ],
      "metadata": {
        "colab": {
          "base_uri": "https://localhost:8080/"
        },
        "id": "Gpo7J6f2MWVW",
        "outputId": "1969868b-c332-4695-9432-3cce2f63594d"
      },
      "execution_count": null,
      "outputs": [
        {
          "output_type": "stream",
          "name": "stdout",
          "text": [
            "True\n",
            ">>> Binary Classification.\n",
            "\t*** Random Forest - Training Set performance reports: ***\n",
            "\t\tPrecision: 0.952 \n",
            "\t\tRecall: 0.362 \n",
            "\t\tF1-Score: 0.524\n",
            "\t\tMicro-Average F1-Score: 0.524\n",
            "\t\tAccuracy: 0.978\n",
            "              precision    recall  f1-score   support\n",
            "\n",
            "           0       0.98      1.00      0.99     27401\n",
            "           1       0.95      0.36      0.52       932\n",
            "\n",
            "    accuracy                           0.98     28333\n",
            "   macro avg       0.97      0.68      0.76     28333\n",
            "weighted avg       0.98      0.98      0.97     28333\n",
            "\n",
            "True\n",
            ">>> Binary Classification.\n",
            "\t*** Random Forest - Test Set performance reports: ***\n",
            "\t\tPrecision: 0.699 \n",
            "\t\tRecall: 0.249 \n",
            "\t\tF1-Score: 0.367\n",
            "\t\tMicro-Average F1-Score: 0.367\n",
            "\t\tAccuracy: 0.972\n",
            "              precision    recall  f1-score   support\n",
            "\n",
            "           0       0.98      1.00      0.99      6851\n",
            "           1       0.70      0.25      0.37       233\n",
            "\n",
            "    accuracy                           0.97      7084\n",
            "   macro avg       0.84      0.62      0.68      7084\n",
            "weighted avg       0.97      0.97      0.97      7084\n",
            "\n",
            "done all\n",
            "1\n",
            "True\n",
            ">>> Binary Classification.\n",
            "\t*** Logistic Regression - Training Set performance reports: ***\n",
            "\t\tPrecision: 0.748 \n",
            "\t\tRecall: 0.401 \n",
            "\t\tF1-Score: 0.522\n",
            "\t\tMicro-Average F1-Score: 0.522\n",
            "\t\tAccuracy: 0.976\n",
            "              precision    recall  f1-score   support\n",
            "\n",
            "           0       0.98      1.00      0.99     27401\n",
            "           1       0.75      0.40      0.52       932\n",
            "\n",
            "    accuracy                           0.98     28333\n",
            "   macro avg       0.86      0.70      0.75     28333\n",
            "weighted avg       0.97      0.98      0.97     28333\n",
            "\n",
            "True\n",
            ">>> Binary Classification.\n",
            "\t*** Logistic Regression - Test Set performance reports: ***\n",
            "\t\tPrecision: 0.675 \n",
            "\t\tRecall: 0.348 \n",
            "\t\tF1-Score: 0.459\n",
            "\t\tMicro-Average F1-Score: 0.459\n",
            "\t\tAccuracy: 0.973\n",
            "              precision    recall  f1-score   support\n",
            "\n",
            "           0       0.98      0.99      0.99      6851\n",
            "           1       0.68      0.35      0.46       233\n",
            "\n",
            "    accuracy                           0.97      7084\n",
            "   macro avg       0.83      0.67      0.72      7084\n",
            "weighted avg       0.97      0.97      0.97      7084\n",
            "\n",
            "done all\n",
            "1\n"
          ]
        },
        {
          "output_type": "execute_result",
          "data": {
            "text/plain": [
              "({'classifier': 'Random Forest',\n",
              "  'emb_method': 'deepwalk',\n",
              "  'exp_id': 'elliptic',\n",
              "  'index': '1',\n",
              "  'test_acc': 0.9717673630717109,\n",
              "  'test_auc': 0.8754678838276169,\n",
              "  'test_f1': 0.3670886075949367,\n",
              "  'test_prec': 0.6987951807228916,\n",
              "  'test_rec': 0.24892703862660945,\n",
              "  'train_acc': 0.9783997458793633,\n",
              "  'train_auc': 0.9042621913332006,\n",
              "  'train_f1': 0.5241057542768273,\n",
              "  'train_prec': 0.9519774011299436,\n",
              "  'train_rec': 0.361587982832618},\n",
              " RandomForestClassifier(max_depth=5, max_features=10, n_estimators=50,\n",
              "                        random_state=42),\n",
              " {'classifier': 'Logistic Regression',\n",
              "  'emb_method': 'deepwalk',\n",
              "  'exp_id': 'elliptic',\n",
              "  'index': '1',\n",
              "  'test_acc': 0.9730378317334839,\n",
              "  'test_auc': 0.9292437493852908,\n",
              "  'test_f1': 0.4589235127478754,\n",
              "  'test_prec': 0.675,\n",
              "  'test_rec': 0.34763948497854075,\n",
              "  'train_acc': 0.9758585395122296,\n",
              "  'train_auc': 0.9352574457277568,\n",
              "  'train_f1': 0.5223463687150838,\n",
              "  'train_prec': 0.748,\n",
              "  'train_rec': 0.4012875536480687},\n",
              " LogisticRegression(max_iter=100000.0, penalty='l1', random_state=42,\n",
              "                    solver='liblinear'))"
            ]
          },
          "metadata": {},
          "execution_count": 22
        }
      ]
    }
  ]
}